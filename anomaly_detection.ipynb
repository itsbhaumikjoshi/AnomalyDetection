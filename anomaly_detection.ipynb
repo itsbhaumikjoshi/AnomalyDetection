{
  "cells": [
    {
      "cell_type": "markdown",
      "metadata": {
        "id": "IqYn_c2Ju-mI"
      },
      "source": [
        "# Dataset Setup"
      ]
    },
    {
      "cell_type": "code",
      "execution_count": 1,
      "metadata": {
        "colab": {
          "base_uri": "https://localhost:8080/",
          "height": 91
        },
        "id": "xXqUAuUcAzUy",
        "outputId": "44e275e0-3abc-4119-c1a0-3fd031727e5b",
        "vscode": {
          "languageId": "python"
        }
      },
      "outputs": [
        {
          "data": {
            "text/html": [
              "\n",
              "     <input type=\"file\" id=\"files-7812ae64-2597-4997-a796-1436d15beab5\" name=\"files[]\" multiple disabled\n",
              "        style=\"border:none\" />\n",
              "     <output id=\"result-7812ae64-2597-4997-a796-1436d15beab5\">\n",
              "      Upload widget is only available when the cell has been executed in the\n",
              "      current browser session. Please rerun this cell to enable.\n",
              "      </output>\n",
              "      <script>// Copyright 2017 Google LLC\n",
              "//\n",
              "// Licensed under the Apache License, Version 2.0 (the \"License\");\n",
              "// you may not use this file except in compliance with the License.\n",
              "// You may obtain a copy of the License at\n",
              "//\n",
              "//      http://www.apache.org/licenses/LICENSE-2.0\n",
              "//\n",
              "// Unless required by applicable law or agreed to in writing, software\n",
              "// distributed under the License is distributed on an \"AS IS\" BASIS,\n",
              "// WITHOUT WARRANTIES OR CONDITIONS OF ANY KIND, either express or implied.\n",
              "// See the License for the specific language governing permissions and\n",
              "// limitations under the License.\n",
              "\n",
              "/**\n",
              " * @fileoverview Helpers for google.colab Python module.\n",
              " */\n",
              "(function(scope) {\n",
              "function span(text, styleAttributes = {}) {\n",
              "  const element = document.createElement('span');\n",
              "  element.textContent = text;\n",
              "  for (const key of Object.keys(styleAttributes)) {\n",
              "    element.style[key] = styleAttributes[key];\n",
              "  }\n",
              "  return element;\n",
              "}\n",
              "\n",
              "// Max number of bytes which will be uploaded at a time.\n",
              "const MAX_PAYLOAD_SIZE = 100 * 1024;\n",
              "\n",
              "function _uploadFiles(inputId, outputId) {\n",
              "  const steps = uploadFilesStep(inputId, outputId);\n",
              "  const outputElement = document.getElementById(outputId);\n",
              "  // Cache steps on the outputElement to make it available for the next call\n",
              "  // to uploadFilesContinue from Python.\n",
              "  outputElement.steps = steps;\n",
              "\n",
              "  return _uploadFilesContinue(outputId);\n",
              "}\n",
              "\n",
              "// This is roughly an async generator (not supported in the browser yet),\n",
              "// where there are multiple asynchronous steps and the Python side is going\n",
              "// to poll for completion of each step.\n",
              "// This uses a Promise to block the python side on completion of each step,\n",
              "// then passes the result of the previous step as the input to the next step.\n",
              "function _uploadFilesContinue(outputId) {\n",
              "  const outputElement = document.getElementById(outputId);\n",
              "  const steps = outputElement.steps;\n",
              "\n",
              "  const next = steps.next(outputElement.lastPromiseValue);\n",
              "  return Promise.resolve(next.value.promise).then((value) => {\n",
              "    // Cache the last promise value to make it available to the next\n",
              "    // step of the generator.\n",
              "    outputElement.lastPromiseValue = value;\n",
              "    return next.value.response;\n",
              "  });\n",
              "}\n",
              "\n",
              "/**\n",
              " * Generator function which is called between each async step of the upload\n",
              " * process.\n",
              " * @param {string} inputId Element ID of the input file picker element.\n",
              " * @param {string} outputId Element ID of the output display.\n",
              " * @return {!Iterable<!Object>} Iterable of next steps.\n",
              " */\n",
              "function* uploadFilesStep(inputId, outputId) {\n",
              "  const inputElement = document.getElementById(inputId);\n",
              "  inputElement.disabled = false;\n",
              "\n",
              "  const outputElement = document.getElementById(outputId);\n",
              "  outputElement.innerHTML = '';\n",
              "\n",
              "  const pickedPromise = new Promise((resolve) => {\n",
              "    inputElement.addEventListener('change', (e) => {\n",
              "      resolve(e.target.files);\n",
              "    });\n",
              "  });\n",
              "\n",
              "  const cancel = document.createElement('button');\n",
              "  inputElement.parentElement.appendChild(cancel);\n",
              "  cancel.textContent = 'Cancel upload';\n",
              "  const cancelPromise = new Promise((resolve) => {\n",
              "    cancel.onclick = () => {\n",
              "      resolve(null);\n",
              "    };\n",
              "  });\n",
              "\n",
              "  // Wait for the user to pick the files.\n",
              "  const files = yield {\n",
              "    promise: Promise.race([pickedPromise, cancelPromise]),\n",
              "    response: {\n",
              "      action: 'starting',\n",
              "    }\n",
              "  };\n",
              "\n",
              "  cancel.remove();\n",
              "\n",
              "  // Disable the input element since further picks are not allowed.\n",
              "  inputElement.disabled = true;\n",
              "\n",
              "  if (!files) {\n",
              "    return {\n",
              "      response: {\n",
              "        action: 'complete',\n",
              "      }\n",
              "    };\n",
              "  }\n",
              "\n",
              "  for (const file of files) {\n",
              "    const li = document.createElement('li');\n",
              "    li.append(span(file.name, {fontWeight: 'bold'}));\n",
              "    li.append(span(\n",
              "        `(${file.type || 'n/a'}) - ${file.size} bytes, ` +\n",
              "        `last modified: ${\n",
              "            file.lastModifiedDate ? file.lastModifiedDate.toLocaleDateString() :\n",
              "                                    'n/a'} - `));\n",
              "    const percent = span('0% done');\n",
              "    li.appendChild(percent);\n",
              "\n",
              "    outputElement.appendChild(li);\n",
              "\n",
              "    const fileDataPromise = new Promise((resolve) => {\n",
              "      const reader = new FileReader();\n",
              "      reader.onload = (e) => {\n",
              "        resolve(e.target.result);\n",
              "      };\n",
              "      reader.readAsArrayBuffer(file);\n",
              "    });\n",
              "    // Wait for the data to be ready.\n",
              "    let fileData = yield {\n",
              "      promise: fileDataPromise,\n",
              "      response: {\n",
              "        action: 'continue',\n",
              "      }\n",
              "    };\n",
              "\n",
              "    // Use a chunked sending to avoid message size limits. See b/62115660.\n",
              "    let position = 0;\n",
              "    do {\n",
              "      const length = Math.min(fileData.byteLength - position, MAX_PAYLOAD_SIZE);\n",
              "      const chunk = new Uint8Array(fileData, position, length);\n",
              "      position += length;\n",
              "\n",
              "      const base64 = btoa(String.fromCharCode.apply(null, chunk));\n",
              "      yield {\n",
              "        response: {\n",
              "          action: 'append',\n",
              "          file: file.name,\n",
              "          data: base64,\n",
              "        },\n",
              "      };\n",
              "\n",
              "      let percentDone = fileData.byteLength === 0 ?\n",
              "          100 :\n",
              "          Math.round((position / fileData.byteLength) * 100);\n",
              "      percent.textContent = `${percentDone}% done`;\n",
              "\n",
              "    } while (position < fileData.byteLength);\n",
              "  }\n",
              "\n",
              "  // All done.\n",
              "  yield {\n",
              "    response: {\n",
              "      action: 'complete',\n",
              "    }\n",
              "  };\n",
              "}\n",
              "\n",
              "scope.google = scope.google || {};\n",
              "scope.google.colab = scope.google.colab || {};\n",
              "scope.google.colab._files = {\n",
              "  _uploadFiles,\n",
              "  _uploadFilesContinue,\n",
              "};\n",
              "})(self);\n",
              "</script> "
            ],
            "text/plain": [
              "<IPython.core.display.HTML object>"
            ]
          },
          "metadata": {},
          "output_type": "display_data"
        },
        {
          "name": "stdout",
          "output_type": "stream",
          "text": [
            "Saving data.zip to data.zip\n",
            "file uploaded successfully\n"
          ]
        }
      ],
      "source": [
        "from google.colab import files\n",
        "files.upload()\n",
        "print(\"file uploaded successfully\")"
      ]
    },
    {
      "cell_type": "code",
      "execution_count": 2,
      "metadata": {
        "colab": {
          "base_uri": "https://localhost:8080/"
        },
        "id": "_TuXDG6IbSiW",
        "outputId": "4c63119f-28f4-442b-a0ed-cc92c9100810",
        "vscode": {
          "languageId": "python"
        }
      },
      "outputs": [
        {
          "name": "stdout",
          "output_type": "stream",
          "text": [
            "Archive:  ./data.zip\n",
            "  inflating: data/AAPL.csv           \n",
            "  inflating: data/GOOG.csv           \n",
            "  inflating: data/taxi.csv           \n"
          ]
        }
      ],
      "source": [
        "!unzip ./data.zip\n",
        "!mkdir models"
      ]
    },
    {
      "cell_type": "markdown",
      "metadata": {
        "id": "1Uny47hgvEIR"
      },
      "source": [
        "# Lib Import"
      ]
    },
    {
      "cell_type": "code",
      "execution_count": 3,
      "metadata": {
        "colab": {
          "base_uri": "https://localhost:8080/"
        },
        "id": "HB9He43PwYUf",
        "outputId": "26d582f5-fd27-4c54-e897-e6a6ab3ae469",
        "vscode": {
          "languageId": "python"
        }
      },
      "outputs": [
        {
          "name": "stdout",
          "output_type": "stream",
          "text": [
            "Looking in indexes: https://pypi.org/simple, https://us-python.pkg.dev/colab-wheels/public/simple/\n",
            "Collecting keras-tuner\n",
            "  Downloading keras_tuner-1.3.5-py3-none-any.whl (176 kB)\n",
            "\u001b[2K     \u001b[90m━━━━━━━━━━━━━━━━━━━━━━━━━━━━━━━━━━━━━━━\u001b[0m \u001b[32m176.1/176.1 kB\u001b[0m \u001b[31m2.6 MB/s\u001b[0m eta \u001b[36m0:00:00\u001b[0m\n",
            "\u001b[?25hRequirement already satisfied: packaging in /usr/local/lib/python3.10/dist-packages (from keras-tuner) (23.1)\n",
            "Requirement already satisfied: requests in /usr/local/lib/python3.10/dist-packages (from keras-tuner) (2.27.1)\n",
            "Collecting kt-legacy (from keras-tuner)\n",
            "  Downloading kt_legacy-1.0.5-py3-none-any.whl (9.6 kB)\n",
            "Requirement already satisfied: urllib3<1.27,>=1.21.1 in /usr/local/lib/python3.10/dist-packages (from requests->keras-tuner) (1.26.15)\n",
            "Requirement already satisfied: certifi>=2017.4.17 in /usr/local/lib/python3.10/dist-packages (from requests->keras-tuner) (2022.12.7)\n",
            "Requirement already satisfied: charset-normalizer~=2.0.0 in /usr/local/lib/python3.10/dist-packages (from requests->keras-tuner) (2.0.12)\n",
            "Requirement already satisfied: idna<4,>=2.5 in /usr/local/lib/python3.10/dist-packages (from requests->keras-tuner) (3.4)\n",
            "Installing collected packages: kt-legacy, keras-tuner\n",
            "Successfully installed keras-tuner-1.3.5 kt-legacy-1.0.5\n"
          ]
        }
      ],
      "source": [
        "!pip install keras-tuner"
      ]
    },
    {
      "cell_type": "code",
      "execution_count": 4,
      "metadata": {
        "colab": {
          "base_uri": "https://localhost:8080/"
        },
        "id": "raLDLYE6R2h7",
        "outputId": "9ffdbdfb-6893-4f69-bf6c-4e92dfca29ed",
        "vscode": {
          "languageId": "python"
        }
      },
      "outputs": [
        {
          "name": "stderr",
          "output_type": "stream",
          "text": [
            "<ipython-input-4-f642e67fce24>:16: DeprecationWarning: `import kerastuner` is deprecated, please use `import keras_tuner`.\n",
            "  from kerastuner.tuners import BayesianOptimization\n"
          ]
        }
      ],
      "source": [
        "import math\n",
        "from datetime import datetime\n",
        "import csv\n",
        "import numpy as np\n",
        "import pandas as pd\n",
        "import matplotlib.pyplot as plt\n",
        "from sklearn.preprocessing import StandardScaler\n",
        "from sklearn.svm import SVR\n",
        "from sklearn.metrics import r2_score\n",
        "from sklearn.model_selection import train_test_split\n",
        "from sklearn.cluster import KMeans\n",
        "import pickle\n",
        "from keras.models import Sequential, Model\n",
        "from keras.layers import LSTM, Dense, Dropout, Input, Bidirectional, RepeatVector, TimeDistributed\n",
        "from tensorflow import keras\n",
        "from kerastuner.tuners import BayesianOptimization"
      ]
    },
    {
      "cell_type": "markdown",
      "metadata": {
        "id": "zU1h1KxBvH1g"
      },
      "source": [
        "# Load Dataset"
      ]
    },
    {
      "cell_type": "code",
      "execution_count": 5,
      "metadata": {
        "id": "B7vwFxCcYGiy",
        "vscode": {
          "languageId": "python"
        }
      },
      "outputs": [],
      "source": [
        "# loading the dataset\n",
        "dataset_files = (\"./data/AAPL.csv\", \"./data/GOOG.csv\", \"./data/taxi.csv\")\n",
        "datasets = [pd.read_csv(dataset_file, index_col=0) for dataset_file in dataset_files]\n",
        "df_apple, df_google, df_taxi = datasets"
      ]
    },
    {
      "cell_type": "markdown",
      "metadata": {
        "id": "Z6GOr6hlu3cH"
      },
      "source": [
        "# Preprocessing"
      ]
    },
    {
      "cell_type": "code",
      "execution_count": 6,
      "metadata": {
        "colab": {
          "base_uri": "https://localhost:8080/"
        },
        "id": "AeBk7uXYvt9S",
        "outputId": "6f8771d9-e077-4027-b93e-3ed30eb2c4a8",
        "vscode": {
          "languageId": "python"
        }
      },
      "outputs": [
        {
          "data": {
            "text/plain": [
              "(False, False, False)"
            ]
          },
          "execution_count": 6,
          "metadata": {},
          "output_type": "execute_result"
        }
      ],
      "source": [
        "# checking for null values in the datasets\n",
        "(\n",
        "    df_apple.sum().isnull().value,\n",
        "    df_google.sum().isnull().value,\n",
        "    df_taxi.sum().isnull().value,\n",
        ")"
      ]
    },
    {
      "cell_type": "code",
      "execution_count": 7,
      "metadata": {
        "id": "F4TRyPWxDVw_",
        "vscode": {
          "languageId": "python"
        }
      },
      "outputs": [],
      "source": [
        "# normalizing the datasets\n",
        "std_scalers = (StandardScaler() for i in range(3))\n",
        "for dataset, scaler in zip(datasets, std_scalers):\n",
        "  dataset[\"value\"] = scaler.fit_transform(np.array(dataset[\"value\"].values).reshape(-1, 1))"
      ]
    },
    {
      "cell_type": "code",
      "execution_count": 8,
      "metadata": {
        "id": "sGorGUyucAC3",
        "vscode": {
          "languageId": "python"
        }
      },
      "outputs": [],
      "source": [
        "def create_datasets(datasets):\n",
        "  train = []\n",
        "  validation = []\n",
        "  test = []\n",
        "  \n",
        "  for dataset in datasets:\n",
        "    X_train, X_test, y_train, y_test = train_test_split(dataset, np.array(dataset['value']), test_size=0.2, random_state=42)\n",
        "    X_train, X_val, y_train, y_val = train_test_split(X_train, y_train, test_size=0.2, random_state=42)\n",
        "    train.append((X_train, y_train))\n",
        "    validation.append((X_val, y_val))\n",
        "    test.append((X_test, y_test))\n",
        "\n",
        "  return train, validation, test\n",
        "\n",
        "def create_dataset_with_time_steps(X, y, time_steps):\n",
        "    Xs, ys = [], []\n",
        "    for i in range(len(X) - time_steps):\n",
        "        v = X[i:(i + time_steps)].values\n",
        "        Xs.append(v)\n",
        "        ys.append(y[i + time_steps])\n",
        "    return np.array(Xs), np.array(ys)\n",
        "\n",
        "def create_datasets_for_nn(train, validation, test, time_steps=1):\n",
        "  train_nn = []\n",
        "  validation_nn = []\n",
        "  test_nn = []\n",
        "  \n",
        "  for i, (t, v, te) in enumerate(zip(train, validation, test)):\n",
        "    train_nn.append(create_dataset_with_time_steps(t[0], t[1], time_steps))\n",
        "    validation_nn.append(create_dataset_with_time_steps(v[0], v[1], time_steps))\n",
        "    test_nn.append(create_dataset_with_time_steps(te[0], te[1], time_steps))\n",
        "\n",
        "  return train_nn, validation_nn, test_nn"
      ]
    },
    {
      "cell_type": "code",
      "execution_count": 9,
      "metadata": {
        "id": "zqQynvQGm6hJ",
        "vscode": {
          "languageId": "python"
        }
      },
      "outputs": [],
      "source": [
        "train, validation, test = create_datasets(datasets)"
      ]
    },
    {
      "cell_type": "code",
      "execution_count": 10,
      "metadata": {
        "colab": {
          "base_uri": "https://localhost:8080/",
          "height": 0
        },
        "id": "KUMMuiJRkhff",
        "outputId": "b407fadc-dcb4-48dd-b944-774e00691c47",
        "vscode": {
          "languageId": "python"
        }
      },
      "outputs": [
        {
          "data": {
            "image/png": "[encoded data removed]",
            "text/plain": [
              "<Figure size 640x480 with 3 Axes>"
            ]
          },
          "metadata": {},
          "output_type": "display_data"
        }
      ],
      "source": [
        "# render datasets\n",
        "fig, axs = plt.subplots(3, 1)\n",
        "# to plot first N points\n",
        "N = 500\n",
        "x_axis = [i for i in range(N)]\n",
        "\n",
        "for i, dataset in enumerate(datasets):\n",
        "  axs[i].plot(x_axis, dataset[\"value\"][:N])\n",
        "\n",
        "fig.suptitle('Dataset')\n",
        "axs[0].set_ylabel('apple stock dataset')\n",
        "axs[1].set_ylabel('google stock dataset')\n",
        "axs[2].set_ylabel('taxi dataset')\n",
        "axs[2].set_xlabel('Sample points')\n",
        "\n",
        "plt.show()"
      ]
    },
    {
      "cell_type": "code",
      "execution_count": 11,
      "metadata": {
        "id": "I2NqSw70oD13",
        "vscode": {
          "languageId": "python"
        }
      },
      "outputs": [],
      "source": [
        "predictions = {\n",
        "    \"SVR\": [],\n",
        "    \"NN\": [],\n",
        "    \"LSTM\": [],\n",
        "}"
      ]
    },
    {
      "cell_type": "markdown",
      "metadata": {
        "id": "moS3_c-imuGf"
      },
      "source": [
        "# SVR"
      ]
    },
    {
      "cell_type": "code",
      "execution_count": 12,
      "metadata": {
        "id": "-00k6YQSmvw3",
        "vscode": {
          "languageId": "python"
        }
      },
      "outputs": [],
      "source": [
        "svrs = [SVR(C=1.0, epsilon=0.2) for i in range(3)]\n",
        "for dataset, svr, t, v, te in zip(datasets, svrs, train, validation, test):\n",
        "  svr.fit(np.array(t[0]), np.array(t[1]))\n",
        "  predictions[\"SVR\"].append(svr.predict(np.array(te[0])))\n"
      ]
    },
    {
      "cell_type": "markdown",
      "metadata": {
        "id": "RVjBX2Dzt6k6"
      },
      "source": [
        "### In the graph below, the significant distance between the actual value and predictions can be concluded to be an anomaly."
      ]
    },
    {
      "cell_type": "code",
      "execution_count": 13,
      "metadata": {
        "colab": {
          "base_uri": "https://localhost:8080/",
          "height": 478
        },
        "id": "4M0YqTtMpHco",
        "outputId": "1b7466a2-6263-49b2-db72-69ed69e64282",
        "vscode": {
          "languageId": "python"
        }
      },
      "outputs": [
        {
          "data": {
            "image/png": "[encoded data removed]",
            "text/plain": [
              "<Figure size 640x480 with 3 Axes>"
            ]
          },
          "metadata": {},
          "output_type": "display_data"
        }
      ],
      "source": [
        "# render predictions\n",
        "fig, axs = plt.subplots(3, 1)\n",
        "\n",
        "for i, (te, pred) in enumerate(zip(test, predictions[\"SVR\"])):\n",
        "  axs[i].plot(te[1], marker=\"*\" ,label='Actual', color='red')\n",
        "  axs[i].plot(pred, marker=\".\", label='Prediction', color= 'blue')\n",
        "\n",
        "fig.suptitle('SVR Predictions')\n",
        "axs[0].set_ylabel('Apple dataset predictions')\n",
        "axs[1].set_ylabel('Google dataset predictions')\n",
        "axs[2].set_ylabel('taxi dataset predictions')\n",
        "\n",
        "plt.show()\n"
      ]
    },
    {
      "cell_type": "markdown",
      "metadata": {
        "id": "hCG8lX4eunzk"
      },
      "source": [
        "# Neural Networks"
      ]
    },
    {
      "cell_type": "code",
      "execution_count": 14,
      "metadata": {
        "id": "AG2ivOPPuqkw",
        "vscode": {
          "languageId": "python"
        }
      },
      "outputs": [],
      "source": [
        "train_nn, validation_nn, test_nn = create_datasets_for_nn(train, validation, test)"
      ]
    },
    {
      "cell_type": "code",
      "execution_count": 15,
      "metadata": {
        "id": "ACJXzihBp2Ta",
        "vscode": {
          "languageId": "python"
        }
      },
      "outputs": [],
      "source": [
        "def build_nn(hp):\n",
        "  model = keras.Sequential()\n",
        "\n",
        "  model.add(keras.layers.Dense(\n",
        "      hp.Int('intial_units', min_value=16, max_value=128, step=16),\n",
        "      input_shape=(1, 1)\n",
        "  ))\n",
        "\n",
        "  for i in range(hp.Int('num_layers', 1, 3)):\n",
        "    model.add(keras.layers.Dense(units=hp.Int('units_' + str(i), min_value=16, max_value=128, step=16), activation='relu'))\n",
        "    model.add(keras.layers.Dropout(rate=hp.Float('dropout_' + str(i), 0, 0.5, 0.1)))\n",
        "    \n",
        "  model.add(keras.layers.Dense(1))\n",
        "  \n",
        "  hp_learning_rate = hp.Choice('learning_rate', values=[1e-1, 1e-2, 1e-3, 1e-4])\n",
        "  \n",
        "  model.compile(optimizer=keras.optimizers.Adam(learning_rate=hp_learning_rate),\n",
        "                loss='mae')\n",
        "\n",
        "\n",
        "  return model\n"
      ]
    },
    {
      "cell_type": "code",
      "execution_count": 16,
      "metadata": {
        "colab": {
          "base_uri": "https://localhost:8080/"
        },
        "id": "zWIrzhXivqmA",
        "outputId": "123d595b-c18c-4f46-95dc-a5c98abc0c77",
        "vscode": {
          "languageId": "python"
        }
      },
      "outputs": [
        {
          "name": "stdout",
          "output_type": "stream",
          "text": [
            "Trial 10 Complete [00h 00m 12s]\n",
            "val_loss: 0.8042158484458923\n",
            "\n",
            "Best val_loss So Far: 0.8037995100021362\n",
            "Total elapsed time: 00h 01m 47s\n"
          ]
        }
      ],
      "source": [
        "models_nn = []\n",
        "\n",
        "map_int_to_dataset = {\n",
        "    0: 'apple',\n",
        "    1: 'google',\n",
        "    2: 'taxi'\n",
        "}\n",
        "\n",
        "for i, (t, v) in enumerate(zip(train_nn, validation_nn)):\n",
        "  tuner = BayesianOptimization(\n",
        "      build_nn,\n",
        "      objective='val_loss',\n",
        "      max_trials=10,\n",
        "      num_initial_points=2,\n",
        "      directory='./models/nn',\n",
        "      project_name=map_int_to_dataset[i]\n",
        "  )\n",
        "\n",
        "  # Search for the optimal hyperparameters\n",
        "  tuner.search(t[0], t[1], epochs=10, validation_data=(v[0], v[1]))\n",
        "\n",
        "  best_hps = tuner.get_best_hyperparameters(num_trials=1)[0]\n",
        "\n",
        "  # Build the model with the optimal hyperparameters\n",
        "  model = tuner.hypermodel.build(best_hps)\n",
        "\n",
        "  models_nn.append(model)\n"
      ]
    },
    {
      "cell_type": "code",
      "execution_count": 17,
      "metadata": {
        "colab": {
          "base_uri": "https://localhost:8080/"
        },
        "id": "rLNB5qJZuqe9",
        "outputId": "87f47ccf-0b2e-4b3b-ef4e-9d7bc49b2ec6",
        "vscode": {
          "languageId": "python"
        }
      },
      "outputs": [
        {
          "name": "stdout",
          "output_type": "stream",
          "text": [
            "Epoch 1/10\n",
            "318/318 [==============================] - 2s 3ms/step - loss: 0.1831 - val_loss: 0.1791\n",
            "Epoch 2/10\n",
            "318/318 [==============================] - 1s 3ms/step - loss: 0.1805 - val_loss: 0.1791\n",
            "Epoch 3/10\n",
            "318/318 [==============================] - 1s 3ms/step - loss: 0.1805 - val_loss: 0.1790\n",
            "Epoch 4/10\n",
            "318/318 [==============================] - 1s 3ms/step - loss: 0.1805 - val_loss: 0.1790\n",
            "Epoch 5/10\n",
            "318/318 [==============================] - 1s 2ms/step - loss: 0.1805 - val_loss: 0.1791\n",
            "Epoch 6/10\n",
            "318/318 [==============================] - 1s 2ms/step - loss: 0.1805 - val_loss: 0.1790\n",
            "Epoch 7/10\n",
            "318/318 [==============================] - 1s 3ms/step - loss: 0.1805 - val_loss: 0.1790\n",
            "Epoch 8/10\n",
            "318/318 [==============================] - 1s 3ms/step - loss: 0.1805 - val_loss: 0.1791\n",
            "Epoch 9/10\n",
            "318/318 [==============================] - 1s 3ms/step - loss: 0.1805 - val_loss: 0.1790\n",
            "Epoch 10/10\n",
            "318/318 [==============================] - 1s 3ms/step - loss: 0.1805 - val_loss: 0.1791\n",
            "100/100 [==============================] - 0s 1ms/step\n",
            "Epoch 1/10\n",
            "317/317 [==============================] - 2s 3ms/step - loss: 0.5621 - val_loss: 0.5803\n",
            "Epoch 2/10\n",
            "317/317 [==============================] - 1s 2ms/step - loss: 0.5597 - val_loss: 0.5807\n",
            "Epoch 3/10\n",
            "317/317 [==============================] - 1s 2ms/step - loss: 0.5594 - val_loss: 0.5808\n",
            "Epoch 4/10\n",
            "317/317 [==============================] - 1s 2ms/step - loss: 0.5594 - val_loss: 0.5809\n",
            "Epoch 5/10\n",
            "317/317 [==============================] - 1s 2ms/step - loss: 0.5594 - val_loss: 0.5810\n",
            "Epoch 6/10\n",
            "317/317 [==============================] - 1s 2ms/step - loss: 0.5594 - val_loss: 0.5809\n",
            "Epoch 7/10\n",
            "317/317 [==============================] - 1s 2ms/step - loss: 0.5594 - val_loss: 0.5808\n",
            "Epoch 8/10\n",
            "317/317 [==============================] - 1s 2ms/step - loss: 0.5594 - val_loss: 0.5809\n",
            "Epoch 9/10\n",
            "317/317 [==============================] - 1s 2ms/step - loss: 0.5594 - val_loss: 0.5809\n",
            "Epoch 10/10\n",
            "317/317 [==============================] - 1s 3ms/step - loss: 0.5593 - val_loss: 0.5810\n",
            "99/99 [==============================] - 0s 1ms/step\n",
            "Epoch 1/10\n",
            "207/207 [==============================] - 3s 7ms/step - loss: 0.7912 - val_loss: 0.8050\n",
            "Epoch 2/10\n",
            "207/207 [==============================] - 1s 3ms/step - loss: 0.7884 - val_loss: 0.8060\n",
            "Epoch 3/10\n",
            "207/207 [==============================] - 1s 3ms/step - loss: 0.7878 - val_loss: 0.8051\n",
            "Epoch 4/10\n",
            "207/207 [==============================] - 1s 4ms/step - loss: 0.7871 - val_loss: 0.8058\n",
            "Epoch 5/10\n",
            "207/207 [==============================] - 1s 3ms/step - loss: 0.7872 - val_loss: 0.8046\n",
            "Epoch 6/10\n",
            "207/207 [==============================] - 1s 3ms/step - loss: 0.7868 - val_loss: 0.8041\n",
            "Epoch 7/10\n",
            "207/207 [==============================] - 1s 3ms/step - loss: 0.7865 - val_loss: 0.8042\n",
            "Epoch 8/10\n",
            "207/207 [==============================] - 1s 3ms/step - loss: 0.7864 - val_loss: 0.8041\n",
            "Epoch 9/10\n",
            "207/207 [==============================] - 1s 3ms/step - loss: 0.7866 - val_loss: 0.8041\n",
            "Epoch 10/10\n",
            "207/207 [==============================] - 1s 3ms/step - loss: 0.7864 - val_loss: 0.8041\n",
            "65/65 [==============================] - 0s 2ms/step\n"
          ]
        }
      ],
      "source": [
        "# train\n",
        "for i, (m, t, v, te) in enumerate(zip(models_nn, train_nn, validation_nn, test_nn)):\n",
        "  m.fit(\n",
        "      t[0], t[1],\n",
        "      epochs=10,\n",
        "      batch_size=32,\n",
        "      validation_data=(v[0], v[1]),\n",
        "      shuffle=False\n",
        "  )\n",
        "\n",
        "  predictions[\"NN\"].append(m.predict(np.array(te[0])))\n"
      ]
    },
    {
      "cell_type": "code",
      "execution_count": 18,
      "metadata": {
        "colab": {
          "base_uri": "https://localhost:8080/"
        },
        "id": "3px5pjGH54sS",
        "outputId": "321aa23f-ed84-473b-c86e-5b3fb657ab8c",
        "vscode": {
          "languageId": "python"
        }
      },
      "outputs": [
        {
          "name": "stdout",
          "output_type": "stream",
          "text": [
            "models saved successfully!\n"
          ]
        }
      ],
      "source": [
        "for i, model in enumerate(models_nn):\n",
        "  pickle.dump(model, open(f\"./models/{map_int_to_dataset[i]}_nn.pkl\", 'wb'))\n",
        "\n",
        "print(\"models saved successfully!\")"
      ]
    },
    {
      "cell_type": "markdown",
      "metadata": {
        "id": "QvevsPyZur2Z"
      },
      "source": [
        "# LSTM"
      ]
    },
    {
      "cell_type": "code",
      "execution_count": 19,
      "metadata": {
        "id": "knkDFS5EuuRN",
        "vscode": {
          "languageId": "python"
        }
      },
      "outputs": [],
      "source": [
        "def build_lstm(hp):\n",
        "  model = keras.Sequential()\n",
        "\n",
        "  model.add(keras.layers.LSTM(\n",
        "      units=hp.Int('units_1', min_value=16, max_value=80, step=16),\n",
        "      input_shape=(1, 1)\n",
        "  ))\n",
        "  model.add(keras.layers.Dropout(rate=hp.Float('dropout_1', min_value=0, max_value=0.5, step=0.1)))\n",
        "  model.add(keras.layers.RepeatVector(n=1))\n",
        "  model.add(keras.layers.LSTM(units=hp.Int('units_2', min_value=16, max_value=80, step=16), return_sequences=True))\n",
        "  model.add(keras.layers.Dropout(rate=hp.Float('dropout_2', min_value=0, max_value=0.5, step=0.1)))\n",
        "  model.add(\n",
        "    keras.layers.TimeDistributed(\n",
        "      keras.layers.Dense(units=1)\n",
        "    )\n",
        "  )\n",
        "\n",
        "  hp_learning_rate = hp.Choice('learning_rate', values=[1e-1, 1e-2, 1e-3, 1e-4])\n",
        "  \n",
        "  model.compile(optimizer=keras.optimizers.Adam(learning_rate=hp_learning_rate),\n",
        "                loss='mae')\n",
        "\n",
        "  return model"
      ]
    },
    {
      "cell_type": "code",
      "execution_count": 20,
      "metadata": {
        "colab": {
          "base_uri": "https://localhost:8080/"
        },
        "id": "73ACC0zouuN3",
        "outputId": "da2d9cb9-10b0-46ef-c1f5-308dc2c91b03",
        "vscode": {
          "languageId": "python"
        }
      },
      "outputs": [
        {
          "name": "stdout",
          "output_type": "stream",
          "text": [
            "Trial 10 Complete [00h 00m 19s]\n",
            "val_loss: 0.8042409420013428\n",
            "\n",
            "Best val_loss So Far: 0.804082453250885\n",
            "Total elapsed time: 00h 03m 58s\n"
          ]
        }
      ],
      "source": [
        "models_lstm = []\n",
        "\n",
        "for i, (t, v) in enumerate(zip(train_nn, validation_nn)):\n",
        "  tuner = BayesianOptimization(\n",
        "      build_lstm,\n",
        "      objective='val_loss',\n",
        "      max_trials=10,\n",
        "      num_initial_points=2,\n",
        "      directory='./models/lstm',\n",
        "      project_name=map_int_to_dataset[i]\n",
        "  )\n",
        "\n",
        "  # Search for the optimal hyperparameters\n",
        "  tuner.search(t[0], t[1], epochs=10, validation_data=(v[0], v[1]))\n",
        "\n",
        "  best_hps = tuner.get_best_hyperparameters(num_trials=1)[0]\n",
        "\n",
        "  # Build the model with the optimal hyperparameters\n",
        "  model = tuner.hypermodel.build(best_hps)\n",
        "\n",
        "  models_lstm.append(model)\n"
      ]
    },
    {
      "cell_type": "code",
      "execution_count": 21,
      "metadata": {
        "colab": {
          "base_uri": "https://localhost:8080/"
        },
        "id": "chBRZkyRuuLS",
        "outputId": "053ab220-24e4-45ff-ba4a-e6325defde00",
        "vscode": {
          "languageId": "python"
        }
      },
      "outputs": [
        {
          "name": "stdout",
          "output_type": "stream",
          "text": [
            "Epoch 1/10\n",
            "318/318 [==============================] - 7s 8ms/step - loss: 0.1810 - val_loss: 0.1791\n",
            "Epoch 2/10\n",
            "318/318 [==============================] - 2s 5ms/step - loss: 0.1805 - val_loss: 0.1791\n",
            "Epoch 3/10\n",
            "318/318 [==============================] - 2s 5ms/step - loss: 0.1805 - val_loss: 0.1791\n",
            "Epoch 4/10\n",
            "318/318 [==============================] - 2s 6ms/step - loss: 0.1805 - val_loss: 0.1791\n",
            "Epoch 5/10\n",
            "318/318 [==============================] - 2s 6ms/step - loss: 0.1805 - val_loss: 0.1791\n",
            "Epoch 6/10\n",
            "318/318 [==============================] - 2s 5ms/step - loss: 0.1805 - val_loss: 0.1791\n",
            "Epoch 7/10\n",
            "318/318 [==============================] - 2s 5ms/step - loss: 0.1805 - val_loss: 0.1791\n",
            "Epoch 8/10\n",
            "318/318 [==============================] - 2s 5ms/step - loss: 0.1805 - val_loss: 0.1791\n",
            "Epoch 9/10\n",
            "318/318 [==============================] - 1s 5ms/step - loss: 0.1805 - val_loss: 0.1790\n",
            "Epoch 10/10\n",
            "318/318 [==============================] - 2s 5ms/step - loss: 0.1805 - val_loss: 0.1791\n",
            "100/100 [==============================] - 1s 2ms/step\n",
            "Epoch 1/10\n",
            "317/317 [==============================] - 8s 8ms/step - loss: 0.5832 - val_loss: 0.5862\n",
            "Epoch 2/10\n",
            "317/317 [==============================] - 2s 6ms/step - loss: 0.5637 - val_loss: 0.5803\n",
            "Epoch 3/10\n",
            "317/317 [==============================] - 2s 5ms/step - loss: 0.5595 - val_loss: 0.5806\n",
            "Epoch 4/10\n",
            "317/317 [==============================] - 2s 6ms/step - loss: 0.5592 - val_loss: 0.5807\n",
            "Epoch 5/10\n",
            "317/317 [==============================] - 2s 7ms/step - loss: 0.5591 - val_loss: 0.5807\n",
            "Epoch 6/10\n",
            "317/317 [==============================] - 2s 5ms/step - loss: 0.5591 - val_loss: 0.5808\n",
            "Epoch 7/10\n",
            "317/317 [==============================] - 2s 6ms/step - loss: 0.5591 - val_loss: 0.5807\n",
            "Epoch 8/10\n",
            "317/317 [==============================] - 2s 5ms/step - loss: 0.5591 - val_loss: 0.5807\n",
            "Epoch 9/10\n",
            "317/317 [==============================] - 2s 6ms/step - loss: 0.5591 - val_loss: 0.5807\n",
            "Epoch 10/10\n",
            "317/317 [==============================] - 2s 6ms/step - loss: 0.5591 - val_loss: 0.5807\n",
            "99/99 [==============================] - 1s 3ms/step\n",
            "Epoch 1/10\n",
            "207/207 [==============================] - 6s 10ms/step - loss: 0.7889 - val_loss: 0.8047\n",
            "Epoch 2/10\n",
            "207/207 [==============================] - 1s 5ms/step - loss: 0.7863 - val_loss: 0.8047\n",
            "Epoch 3/10\n",
            "207/207 [==============================] - 1s 5ms/step - loss: 0.7863 - val_loss: 0.8046\n",
            "Epoch 4/10\n",
            "207/207 [==============================] - 1s 5ms/step - loss: 0.7863 - val_loss: 0.8046\n",
            "Epoch 5/10\n",
            "207/207 [==============================] - 1s 5ms/step - loss: 0.7863 - val_loss: 0.8045\n",
            "Epoch 6/10\n",
            "207/207 [==============================] - 2s 7ms/step - loss: 0.7863 - val_loss: 0.8045\n",
            "Epoch 7/10\n",
            "207/207 [==============================] - 1s 7ms/step - loss: 0.7863 - val_loss: 0.8045\n",
            "Epoch 8/10\n",
            "207/207 [==============================] - 1s 5ms/step - loss: 0.7863 - val_loss: 0.8045\n",
            "Epoch 9/10\n",
            "207/207 [==============================] - 1s 6ms/step - loss: 0.7863 - val_loss: 0.8045\n",
            "Epoch 10/10\n",
            "207/207 [==============================] - 1s 5ms/step - loss: 0.7863 - val_loss: 0.8045\n",
            "65/65 [==============================] - 1s 3ms/step\n"
          ]
        }
      ],
      "source": [
        "# train\n",
        "for i, (m, t, v, te) in enumerate(zip(models_lstm, train_nn, validation_nn, test_nn)):\n",
        "  m.fit(\n",
        "      t[0], t[1],\n",
        "      epochs=10,\n",
        "      batch_size=32,\n",
        "      validation_data=(v[0], v[1]),\n",
        "      shuffle=False\n",
        "  )\n",
        "\n",
        "  predictions[\"LSTM\"].append(m.predict(np.array(te[0])))\n"
      ]
    },
    {
      "cell_type": "code",
      "execution_count": 22,
      "metadata": {
        "colab": {
          "base_uri": "https://localhost:8080/"
        },
        "id": "81f7y-eLuuIe",
        "outputId": "e83a7ef3-a462-4d08-e2c0-ce53081d463a",
        "vscode": {
          "languageId": "python"
        }
      },
      "outputs": [
        {
          "name": "stdout",
          "output_type": "stream",
          "text": [
            "LSTM Models saved successfully!\n"
          ]
        }
      ],
      "source": [
        "for i, model in enumerate(models_lstm):\n",
        "  pickle.dump(model, open(f\"./models/{map_int_to_dataset[i]}_lstm.pkl\", 'wb'))\n",
        "\n",
        "print(\"LSTM Models saved successfully!\")"
      ]
    }
  ],
  "metadata": {
    "colab": {
      "collapsed_sections": [
        "IqYn_c2Ju-mI",
        "1Uny47hgvEIR",
        "zU1h1KxBvH1g",
        "tA3x0jqC-XvQ",
        "2Wu3riLPLPST",
        "RgwUO5afYrXR"
      ],
      "provenance": [],
      "toc_visible": true
    },
    "kernelspec": {
      "display_name": "Python 3",
      "name": "python3"
    }
  },
  "nbformat": 4,
  "nbformat_minor": 0
}
